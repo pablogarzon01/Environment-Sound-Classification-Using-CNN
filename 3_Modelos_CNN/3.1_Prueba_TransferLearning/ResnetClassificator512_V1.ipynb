{
 "cells": [
  {
   "cell_type": "markdown",
   "id": "adcf110c-cde9-490b-8add-25cbd0ee8dfd",
   "metadata": {},
   "source": [
    "# **Clasificador de imagenes usando Resnet101V2 y dataset UrbanSound8K**"
   ]
  },
  {
   "cell_type": "markdown",
   "id": "d7b3582f-5cb6-4bba-ae06-45283b050cdc",
   "metadata": {},
   "source": [
    "## **Instalación e importación de Librerías**"
   ]
  },
  {
   "cell_type": "markdown",
   "id": "14235752-02fd-4bbf-9065-93b680c8f18c",
   "metadata": {
    "jp-MarkdownHeadingCollapsed": true
   },
   "source": [
    "1. **TensorFlow**:\n",
    "   - Es el marco principal utilizado para el aprendizaje profundo.\n",
    "   - Nos permite:\n",
    "     - Construir el modelo basado en `ResNet101 V2`.\n",
    "     - Entrenar y evaluar el modelo.\n",
    "     - Preprocesar imágenes y manejar las operaciones de red neuronal.\n",
    "\n",
    "2. **Matplotlib**:\n",
    "   - Librería de visualización para graficar métricas y analizar el desempeño del modelo.\n",
    "   - Utilizada para:\n",
    "     - Graficar precisión y pérdida durante el entrenamiento.\n",
    "     - Visualizar la matriz de confusión y curvas ROC.\n",
    "\n",
    "3. **Scikit-learn**:\n",
    "   - Proporciona herramientas para métricas de evaluación y análisis de modelos.\n",
    "   - Nos ayuda a:\n",
    "     - Calcular métricas como precisión, recall, F1-score y ROC-AUC.\n",
    "     - Generar la matriz de confusión.\n",
    "     - Binarizar etiquetas para la evaluación ROC.\n",
    "\n",
    "4. **Pandas**:\n",
    "   - Librería para manejo eficiente de datos tabulares.\n",
    "   - Se utilizará para:\n",
    "     - Registrar resultados en tablas para comparar representaciones gráficas.\n",
    "     - Crear reportes estructurados con métricas de desempeño.\n",
    "\n",
    "5. **NumPy**:\n",
    "   - Permite realizar operaciones matemáticas rápidas y manejo de arreglos numéricos.\n",
    "   - Se utiliza para:\n",
    "     - Procesar datos como las probabilidades generadas por el modelo.\n",
    "     - Manipular imágenes y datos en formato matricial.\n",
    "\n",
    "6. **Seaborn**:\n",
    "   - Extensión avanzada de Matplotlib para visualización de datos.\n",
    "   - Nos permitirá:\n",
    "     - Crear gráficos detallados como matrices de confusión con anotaciones y mapas de calor."
   ]
  },
  {
   "cell_type": "code",
   "execution_count": 7,
   "id": "d770654d",
   "metadata": {},
   "outputs": [],
   "source": [
    "#!python --version"
   ]
  },
  {
   "cell_type": "code",
   "execution_count": 8,
   "id": "2e819924-5476-4dee-b3b6-94b39e0ff8af",
   "metadata": {
    "scrolled": true,
    "slideshow": {
     "slide_type": ""
    },
    "tags": []
   },
   "outputs": [],
   "source": [
    "#!pip install tensorflow==2.10.0\n",
    "#!pip install matplotlib scikit-learn pandas numpy seaborn "
   ]
  },
  {
   "cell_type": "markdown",
   "id": "c2383100-ca65-42eb-996d-d8659b361d18",
   "metadata": {},
   "source": [
    "#### **Librerías principales de TensorFlow y Keras**\n",
    "- **TensorFlow**:\n",
    "  - Proporciona la infraestructura principal para el aprendizaje profundo.\n",
    "  - Incluye funciones para preprocesamiento, entrenamiento y evaluación de modelos.\n",
    "\n",
    "- **Keras** (dentro de TensorFlow):\n",
    "  - `Sequential`: Permite construir modelos secuenciales.\n",
    "  - `Dense`, `Dropout`, `GlobalAveragePooling2D`: Capas utilizadas para personalizar la parte superior del modelo.\n",
    "  - `ResNet101V2`: Modelo base preentrenado en ImageNet.\n",
    "  - `EarlyStopping`, `ModelCheckpoint`: Callbacks para optimizar el entrenamiento.\n",
    "  - `Adam`: Optimizador utilizado para el ajuste del modelo.\n",
    "  - `image_dataset_from_directory`, `load_img`, `img_to_array`: Herramientas para cargar y preprocesar imágenes.\n",
    "\n",
    "#### **Librerías para métricas y análisis**\n",
    "- **Scikit-learn**:\n",
    "  - `classification_report`: Para obtener precisión, recall, F1-score y otros indicadores por clase.\n",
    "  - `confusion_matrix`: Para generar y analizar la matriz de confusión.\n",
    "\n",
    "#### **Librerías para manipulación de datos**\n",
    "- **NumPy**:\n",
    "  - Manejo de datos matriciales y operaciones numéricas rápidas.\n",
    "- **Pandas**:\n",
    "  - Organización y análisis tabular de resultados.\n",
    "\n",
    "#### **Librerías para visualización**\n",
    "- **Matplotlib**:\n",
    "  - Gráficos de precisión, pérdida y otras métricas durante el entrenamiento.\n",
    "- **Seaborn**:\n",
    "  - Gráficos avanzados, como matrices de confusión estilizadas y mapas de calor.\n"
   ]
  },
  {
   "cell_type": "code",
   "execution_count": 9,
   "id": "3957668a-77ba-4897-97ef-a06c430cf1c7",
   "metadata": {},
   "outputs": [],
   "source": [
    "# Importar TensorFlow y Keras\n",
    "import tensorflow as tf\n",
    "from tensorflow.keras.models import Sequential\n",
    "from tensorflow.keras.layers import Dense, Dropout, GlobalAveragePooling2D\n",
    "from tensorflow.keras.applications import ResNet101V2\n",
    "from tensorflow.keras import layers, Sequential, optimizers\n",
    "from tensorflow.keras import layers, models, Sequential, optimizers\n",
    "from tensorflow.keras.callbacks import EarlyStopping, ModelCheckpoint\n",
    "from tensorflow.keras.optimizers import Adam\n",
    "from tensorflow.keras.utils import image_dataset_from_directory, load_img, img_to_array\n",
    "\n",
    "# Librerías para preprocesamiento y métricas\n",
    "from sklearn.metrics import classification_report, confusion_matrix\n",
    "import numpy as np\n",
    "import pandas as pd\n",
    "import matplotlib.pyplot as plt\n",
    "import seaborn as sns"
   ]
  },
  {
   "cell_type": "code",
   "execution_count": 10,
   "id": "257495d0-e0e8-4c11-a56b-2341a549c8b8",
   "metadata": {},
   "outputs": [
    {
     "name": "stdout",
     "output_type": "stream",
     "text": [
      "Versión de TensorFlow: 2.10.0\n",
      "¿TensorFlow está usando GPU?\n",
      "[PhysicalDevice(name='/physical_device:GPU:0', device_type='GPU')]\n"
     ]
    }
   ],
   "source": [
    "# Configuración de TensorFlow\n",
    "print(\"Versión de TensorFlow:\", tf.__version__)\n",
    "print(\"¿TensorFlow está usando GPU?\")\n",
    "print(tf.config.list_physical_devices('GPU'))"
   ]
  },
  {
   "cell_type": "markdown",
   "id": "03e95d65-c4fb-4ba9-a744-e130f1b8cbd3",
   "metadata": {},
   "source": [
    "## **Carga y Preprocesamiento del Dataset**"
   ]
  },
  {
   "cell_type": "markdown",
   "id": "0f7c526d-9704-4cc6-8c3b-f74d823dac3a",
   "metadata": {},
   "source": [
    "#### **1. Ruta del Dataset**\n",
    "- El dataset utilizado corresponde a la representación gráfica de elección.\n",
    "\n",
    "#### **2. Configuración del Dataset**\n",
    "- **Parámetros clave**:\n",
    "  - `batch_size = 32`: Determina el número de imágenes procesadas simultáneamente.\n",
    "  - `img_size = (224, 224)`: Tamaño de las imágenes para que sean compatibles con el modelo preentrenado (`ResNet101V2`).\n",
    "\n",
    "- **Cargar datasets de entrenamiento y validación**:\n",
    "  - Se utiliza `image_dataset_from_directory` para cargar las imágenes directamente desde el directorio.\n",
    "  - Se divide el dataset en:\n",
    "    - **80% para entrenamiento**.\n",
    "    - **20% para validación**.\n",
    "  - El parámetro `seed=123` asegura reproducibilidad al realizar la división.\n",
    "\n",
    "#### **3. Normalización**\n",
    "- Las imágenes son normalizadas a valores entre `[0, 1]` para mejorar la estabilidad del modelo.\n",
    "- **`Rescaling(1.0 / 255)`**:\n",
    "  - Escala los valores originales de píxeles (entre `[0, 255]`) a un rango más adecuado para la red neuronal.\n",
    "\n",
    "#### **4. Optimización del Rendimiento**\n",
    "- **Prefetching**:\n",
    "  - Se utiliza `prefetch` con `AUTOTUNE` para optimizar el rendimiento al cargar datos durante el entrenamiento.\n",
    "  - Esto permite que el pipeline de datos se ejecute en paralelo con el entrenamiento.\n",
    "\n",
    "#### **5. Información sobre las Clases**\n",
    "- Las clases detectadas en el dataset se extraen antes de aplicar transformaciones.\n"
   ]
  },
  {
   "cell_type": "code",
   "execution_count": 11,
   "id": "730e01a0-634c-4e65-9509-fa25048fc059",
   "metadata": {
    "slideshow": {
     "slide_type": ""
    },
    "tags": []
   },
   "outputs": [],
   "source": [
    "# Ruta al dataset de Mel-512\n",
    "dataset_path = \"D:\\\\Folder_Jupiter\\\\Analisis_Espectros\\\\DataSetImages_FULL\\\\DataSetImages\\\\Spectrograms\\\\Mel-512\""
   ]
  },
  {
   "cell_type": "code",
   "execution_count": 12,
   "id": "b3a1f5eb-45f2-432a-9b8b-9b8b65e8c4c9",
   "metadata": {},
   "outputs": [],
   "source": [
    "# Parámetros de configuración\n",
    "batch_size = 45  # Menor para optimizar rendimiento en CPU\n",
    "img_size = (224, 224)  # Tamaño de las imágenes"
   ]
  },
  {
   "cell_type": "code",
   "execution_count": 13,
   "id": "0eb6c403-def1-47fa-a61b-852850c0d983",
   "metadata": {},
   "outputs": [
    {
     "name": "stdout",
     "output_type": "stream",
     "text": [
      "Found 5363 files belonging to 7 classes.\n",
      "Using 4291 files for training.\n",
      "Found 5363 files belonging to 7 classes.\n",
      "Using 1072 files for validation.\n"
     ]
    }
   ],
   "source": [
    "# Cargar datasets de entrenamiento y validación\n",
    "train_ds = tf.keras.utils.image_dataset_from_directory(\n",
    "    dataset_path,\n",
    "    validation_split=0.2,  # Dividir 80%-20%\n",
    "    subset=\"training\",\n",
    "    seed=123,  # Para reproducibilidad\n",
    "    image_size=img_size,\n",
    "    batch_size=batch_size,\n",
    ")\n",
    "\n",
    "val_ds = tf.keras.utils.image_dataset_from_directory(\n",
    "    dataset_path,\n",
    "    validation_split=0.2,\n",
    "    subset=\"validation\",\n",
    "    seed=123,\n",
    "    image_size=img_size,\n",
    "    batch_size=batch_size,\n",
    ")"
   ]
  },
  {
   "cell_type": "code",
   "execution_count": 14,
   "id": "4668992f-a5fc-4670-9f11-01b71a088111",
   "metadata": {},
   "outputs": [
    {
     "name": "stdout",
     "output_type": "stream",
     "text": [
      "Clases detectadas: ['air_conditioner', 'children_playing', 'drilling', 'engine_idling', 'jackhammer', 'siren', 'street_music']\n"
     ]
    }
   ],
   "source": [
    "# Extraer nombres de las clases antes de aplicar transformaciones\n",
    "class_names = train_ds.class_names\n",
    "print(\"Clases detectadas:\", class_names)"
   ]
  },
  {
   "cell_type": "code",
   "execution_count": 15,
   "id": "b7d6d331-a3fc-48b4-9ab2-1f97cc57843e",
   "metadata": {},
   "outputs": [],
   "source": [
    "# Normalización: escala los valores de píxeles a [0, 1]\n",
    "normalization_layer = tf.keras.layers.Rescaling(1.0 / 255)\n",
    "\n",
    "train_ds = train_ds.map(lambda x, y: (normalization_layer(x), y))\n",
    "val_ds = val_ds.map(lambda x, y: (normalization_layer(x), y))"
   ]
  },
  {
   "cell_type": "code",
   "execution_count": 16,
   "id": "242efd92-ea5e-4916-92fb-ebd78afb2f6d",
   "metadata": {},
   "outputs": [],
   "source": [
    "# Prefetch para optimizar el rendimiento\n",
    "train_ds = train_ds.prefetch(buffer_size=tf.data.AUTOTUNE)\n",
    "val_ds = val_ds.prefetch(buffer_size=tf.data.AUTOTUNE)"
   ]
  },
  {
   "cell_type": "markdown",
   "id": "cfaf7eb3-e5ba-4c09-a17e-907e61cc5db2",
   "metadata": {},
   "source": [
    "## **Configuración del modelo**"
   ]
  },
  {
   "cell_type": "markdown",
   "id": "7d09eede-28ef-4c5a-9bb8-df478510f118",
   "metadata": {},
   "source": [
    "#### **1. Modelo Base: ResNet101 V2**\n",
    "- Se utiliza **ResNet101 V2**, una red neuronal convolucional preentrenada en el dataset **ImageNet**.\n",
    "- **Parámetros configurados**:\n",
    "  - `weights=\"imagenet\"`: Carga los pesos preentrenados.\n",
    "  - `include_top=False`: Excluye la capa densa final, permitiendo personalizarla para este problema.\n",
    "  - `input_shape=(224, 224, 3)`: Adapta la entrada del modelo a imágenes de 224x224 píxeles con 3 canales de color (RGB).\n",
    "\n",
    "#### **2. Congelación de Capas Base**\n",
    "- Se establece `base_model.trainable = False` para mantener los pesos preentrenados congelados.\n",
    "- Esto permite que las capas base funcionen como un extractor de características sin ser modificadas durante el entrenamiento.\n",
    "\n",
    "#### **3. Construcción del Modelo Completo**\n",
    "- Se añade una \"cabeza personalizada\" al modelo base para realizar la clasificación:\n",
    "  - `GlobalAveragePooling2D`: Reduce las dimensiones espaciales de las características extraídas por ResNet.\n",
    "  - `Dense(128, activation=\"relu\")`: Capa intermedia con 128 unidades para aprender combinaciones más complejas.\n",
    "  - `Dropout(0.5)`: Regularización para evitar el sobreajuste.\n",
    "  - `Dense(len(class_names), activation=\"softmax\")`: Capa de salida con 7 unidades para clasificar las imágenes en las 7 clases.\n",
    "\n",
    "#### **4. Compilación del Modelo**\n",
    "- **Optimizador**:\n",
    "  - `Adam(learning_rate=0.001)`: Optimizador adaptativo con una tasa de aprendizaje inicial de 0.001.\n",
    "- **Función de pérdida**:\n",
    "  - `sparse_categorical_crossentropy`: Ideal para problemas de clasificación multiclase con etiquetas numéricas.\n",
    "- **Métrica**:\n",
    "  - `accuracy`: Calcula la precisión del modelo durante el entrenamiento y validación.\n",
    "\n",
    "#### **5. Resumen del Modelo**\n",
    "- El resumen del modelo incluye:\n",
    "  - **Capas congeladas**: Las capas base (`ResNet101 V2`) no son entrenables.\n",
    "  - **Parámetros entrenables**: Solo se entrenan las capas personalizadas añadidas.\n",
    "  - **Dimensiones de salida**: La capa final tiene 7 unidades correspondientes a las clases.\n"
   ]
  },
  {
   "cell_type": "code",
   "execution_count": 17,
   "id": "29345aaf-ac60-4e45-b12c-50427c229dc4",
   "metadata": {
    "slideshow": {
     "slide_type": ""
    },
    "tags": []
   },
   "outputs": [],
   "source": [
    "# Configuración del modelo base (ResNet101 V2)\n",
    "base_model = ResNet101V2(\n",
    "    weights=\"imagenet\",  # Pesos preentrenados en ImageNet\n",
    "    include_top=False,   # Excluir la capa densa final\n",
    "    input_shape=(224, 224, 3),  # Tamaño de las imágenes\n",
    ")\n",
    "\n",
    "# Congelar las capas base\n",
    "base_model.trainable = False\n"
   ]
  },
  {
   "cell_type": "code",
   "execution_count": 18,
   "id": "0ea8caec-4fa9-429a-9978-edabeebfb3e5",
   "metadata": {},
   "outputs": [],
   "source": [
    "# Crear el modelo completo\n",
    "model = models.Sequential([\n",
    "    base_model,\n",
    "    layers.GlobalAveragePooling2D(),  # Reduce las dimensiones espaciales\n",
    "    layers.Dense(128, activation=\"relu\"),  # Capa densa intermedia\n",
    "    layers.Dropout(0.5),  # Regularización\n",
    "    layers.Dense(len(class_names), activation=\"softmax\"),  # Capa de salida para 7 clases\n",
    "])\n",
    "\n",
    "# Compilar el modelo\n",
    "model.compile(\n",
    "    optimizer=optimizers.Adam(learning_rate=0.001),\n",
    "    loss=\"sparse_categorical_crossentropy\",  # Compatible con etiquetas numéricas\n",
    "    metrics=[\"accuracy\"],\n",
    ")"
   ]
  },
  {
   "cell_type": "code",
   "execution_count": 19,
   "id": "3720951e-2d9e-4752-a76d-4f4febb13938",
   "metadata": {},
   "outputs": [
    {
     "name": "stdout",
     "output_type": "stream",
     "text": [
      "Model: \"sequential\"\n",
      "_________________________________________________________________\n",
      " Layer (type)                Output Shape              Param #   \n",
      "=================================================================\n",
      " resnet101v2 (Functional)    (None, 7, 7, 2048)        42626560  \n",
      "                                                                 \n",
      " global_average_pooling2d (G  (None, 2048)             0         \n",
      " lobalAveragePooling2D)                                          \n",
      "                                                                 \n",
      " dense (Dense)               (None, 128)               262272    \n",
      "                                                                 \n",
      " dropout (Dropout)           (None, 128)               0         \n",
      "                                                                 \n",
      " dense_1 (Dense)             (None, 7)                 903       \n",
      "                                                                 \n",
      "=================================================================\n",
      "Total params: 42,889,735\n",
      "Trainable params: 263,175\n",
      "Non-trainable params: 42,626,560\n",
      "_________________________________________________________________\n"
     ]
    }
   ],
   "source": [
    "# Resumen del modelo\n",
    "model.summary()"
   ]
  },
  {
   "cell_type": "markdown",
   "id": "32413b00-38e9-4a61-abd8-4fc0abaa0078",
   "metadata": {},
   "source": [
    "### Configuración de Callbacks y Entrenamiento del Modelo\n",
    "\n",
    "#### **1. Configuración de Callbacks**\n",
    "Los **callbacks** son herramientas que permiten personalizar y monitorear el proceso de entrenamiento.\n",
    "\n",
    "- **`EarlyStopping`**:\n",
    "  - Monitorea la pérdida en el conjunto de validación (`val_loss`).\n",
    "  - Detiene el entrenamiento si no hay mejora en **5 épocas consecutivas** (`patience=5`).\n",
    "  - **Ventaja**: Ahorra tiempo y recursos al detenerse automáticamente cuando el modelo deja de mejorar.\n",
    "  - Activa `restore_best_weights=True` para que el modelo recupere los pesos de la mejor época al finalizar.\n",
    "\n",
    "- **`ModelCheckpoint`**:\n",
    "  - Guarda el modelo con el mejor desempeño en validación.\n",
    "  - **Parámetros clave**:\n",
    "    - `monitor=\"val_loss\"`: Basado en la pérdida en validación.\n",
    "    - `save_best_only=True`: Solo guarda el modelo cuando mejora el desempeño.\n",
    "\n",
    "#### **2. Entrenamiento del Modelo**\n",
    "Se entrena el modelo con los datasets de entrenamiento y validación.\n",
    "\n",
    "- **Parámetros configurados**:\n",
    "  - `epochs=25`: Límite máximo de épocas, regulado por `EarlyStopping`.\n",
    "  - `callbacks=callbacks`: Activa los callbacks configurados anteriormente.\n",
    "\n",
    "#### **3. Resultados esperados**\n",
    "- El modelo se entrenará durante un máximo de **25 épocas**, pero podría detenerse antes si no mejora (`EarlyStopping`).\n",
    "- Los pesos del mejor modelo serán guardados en `best_model_transfer_learning.keras`.\n",
    "\n",
    "#### **Resultados del entrenamiento**\n",
    "- La historia del entrenamiento (`history`) contendrá:\n",
    "  - **`accuracy` y `val_accuracy`**: Precisión en entrenamiento y validación por época.\n",
    "  - **`loss` y `val_loss`**: Pérdida en entrenamiento y validación por época.\n"
   ]
  },
  {
   "cell_type": "code",
   "execution_count": 20,
   "id": "6a4af05b-5e73-4422-9858-0287fe0552d8",
   "metadata": {
    "scrolled": true
   },
   "outputs": [],
   "source": [
    "# Configurar callbacks\n",
    "callbacks = [\n",
    "    EarlyStopping(\n",
    "        monitor=\"val_loss\",  # Monitorea la pérdida en el conjunto de validación\n",
    "        patience=5,         # Detiene si no hay mejora en 5 épocas\n",
    "        restore_best_weights=True,\n",
    "    ),\n",
    "    ModelCheckpoint(\n",
    "        \"best_model_transfer_learning.keras\",  # Guarda el mejor modelo\n",
    "        monitor=\"val_loss\",\n",
    "        save_best_only=True,\n",
    "    ),\n",
    "]\n"
   ]
  },
  {
   "cell_type": "code",
   "execution_count": 21,
   "id": "0d769a23-849c-411c-8bdb-5a46212d9596",
   "metadata": {},
   "outputs": [
    {
     "name": "stdout",
     "output_type": "stream",
     "text": [
      "Epoch 1/32\n",
      "96/96 [==============================] - 31s 207ms/step - loss: 1.3144 - accuracy: 0.5225 - val_loss: 0.9305 - val_accuracy: 0.6912\n",
      "Epoch 2/32\n",
      "96/96 [==============================] - 21s 213ms/step - loss: 0.8785 - accuracy: 0.6954 - val_loss: 0.7852 - val_accuracy: 0.7257\n",
      "Epoch 3/32\n",
      "96/96 [==============================] - 21s 214ms/step - loss: 0.7518 - accuracy: 0.7397 - val_loss: 0.6842 - val_accuracy: 0.7631\n",
      "Epoch 4/32\n",
      "96/96 [==============================] - 23s 233ms/step - loss: 0.6690 - accuracy: 0.7649 - val_loss: 0.6154 - val_accuracy: 0.7920\n",
      "Epoch 5/32\n",
      "96/96 [==============================] - 24s 241ms/step - loss: 0.5870 - accuracy: 0.8003 - val_loss: 0.5948 - val_accuracy: 0.8004\n",
      "Epoch 6/32\n",
      "96/96 [==============================] - 21s 215ms/step - loss: 0.5478 - accuracy: 0.8108 - val_loss: 0.5506 - val_accuracy: 0.8172\n",
      "Epoch 7/32\n",
      "96/96 [==============================] - 24s 249ms/step - loss: 0.5053 - accuracy: 0.8280 - val_loss: 0.5410 - val_accuracy: 0.8162\n",
      "Epoch 8/32\n",
      "96/96 [==============================] - 24s 241ms/step - loss: 0.4672 - accuracy: 0.8425 - val_loss: 0.4947 - val_accuracy: 0.8461\n",
      "Epoch 9/32\n",
      "96/96 [==============================] - 21s 215ms/step - loss: 0.4270 - accuracy: 0.8578 - val_loss: 0.5159 - val_accuracy: 0.8237\n",
      "Epoch 10/32\n",
      "96/96 [==============================] - 22s 229ms/step - loss: 0.4077 - accuracy: 0.8616 - val_loss: 0.4683 - val_accuracy: 0.8545\n",
      "Epoch 11/32\n",
      "96/96 [==============================] - 22s 221ms/step - loss: 0.3713 - accuracy: 0.8786 - val_loss: 0.4665 - val_accuracy: 0.8517\n",
      "Epoch 12/32\n",
      "96/96 [==============================] - 21s 222ms/step - loss: 0.3522 - accuracy: 0.8858 - val_loss: 0.4508 - val_accuracy: 0.8591\n",
      "Epoch 13/32\n",
      "96/96 [==============================] - 20s 207ms/step - loss: 0.3291 - accuracy: 0.8842 - val_loss: 0.4552 - val_accuracy: 0.8629\n",
      "Epoch 14/32\n",
      "96/96 [==============================] - 22s 221ms/step - loss: 0.3101 - accuracy: 0.8937 - val_loss: 0.4326 - val_accuracy: 0.8601\n",
      "Epoch 15/32\n",
      "96/96 [==============================] - 22s 225ms/step - loss: 0.3009 - accuracy: 0.8956 - val_loss: 0.4320 - val_accuracy: 0.8582\n",
      "Epoch 16/32\n",
      "96/96 [==============================] - 20s 208ms/step - loss: 0.2830 - accuracy: 0.9026 - val_loss: 0.4161 - val_accuracy: 0.8610\n",
      "Epoch 17/32\n",
      "96/96 [==============================] - 20s 203ms/step - loss: 0.2618 - accuracy: 0.9126 - val_loss: 0.4228 - val_accuracy: 0.8657\n",
      "Epoch 18/32\n",
      "96/96 [==============================] - 20s 204ms/step - loss: 0.2426 - accuracy: 0.9215 - val_loss: 0.4291 - val_accuracy: 0.8685\n",
      "Epoch 19/32\n",
      "96/96 [==============================] - 20s 203ms/step - loss: 0.2479 - accuracy: 0.9166 - val_loss: 0.4398 - val_accuracy: 0.8554\n",
      "Epoch 20/32\n",
      "96/96 [==============================] - 21s 215ms/step - loss: 0.2262 - accuracy: 0.9259 - val_loss: 0.4071 - val_accuracy: 0.8778\n",
      "Epoch 21/32\n",
      "96/96 [==============================] - 20s 206ms/step - loss: 0.2078 - accuracy: 0.9278 - val_loss: 0.4216 - val_accuracy: 0.8731\n",
      "Epoch 22/32\n",
      "96/96 [==============================] - 22s 225ms/step - loss: 0.1991 - accuracy: 0.9329 - val_loss: 0.4035 - val_accuracy: 0.8787\n",
      "Epoch 23/32\n",
      "96/96 [==============================] - 20s 205ms/step - loss: 0.1967 - accuracy: 0.9308 - val_loss: 0.4138 - val_accuracy: 0.8806\n",
      "Epoch 24/32\n",
      "96/96 [==============================] - 21s 221ms/step - loss: 0.1821 - accuracy: 0.9406 - val_loss: 0.3832 - val_accuracy: 0.8890\n",
      "Epoch 25/32\n",
      "96/96 [==============================] - 22s 223ms/step - loss: 0.1830 - accuracy: 0.9415 - val_loss: 0.4237 - val_accuracy: 0.8741\n",
      "Epoch 26/32\n",
      "96/96 [==============================] - 24s 240ms/step - loss: 0.1799 - accuracy: 0.9368 - val_loss: 0.4184 - val_accuracy: 0.8750\n",
      "Epoch 27/32\n",
      "96/96 [==============================] - 21s 210ms/step - loss: 0.1664 - accuracy: 0.9450 - val_loss: 0.4113 - val_accuracy: 0.8834\n",
      "Epoch 28/32\n",
      "96/96 [==============================] - 21s 218ms/step - loss: 0.1525 - accuracy: 0.9497 - val_loss: 0.3957 - val_accuracy: 0.8927\n",
      "Epoch 29/32\n",
      "96/96 [==============================] - 22s 223ms/step - loss: 0.1556 - accuracy: 0.9487 - val_loss: 0.4039 - val_accuracy: 0.8834\n"
     ]
    }
   ],
   "source": [
    "# Entrenar el modelo\n",
    "history = model.fit(\n",
    "    train_ds,\n",
    "    validation_data=val_ds,\n",
    "    epochs=32,               # Número inicial de épocas\n",
    "    callbacks=callbacks,\n",
    ")"
   ]
  },
  {
   "cell_type": "markdown",
   "id": "e1571aed-7942-4e8c-8578-70a394d45e5d",
   "metadata": {},
   "source": [
    "## **Evaluación del modelo**"
   ]
  },
  {
   "cell_type": "markdown",
   "id": "93802136-1a2d-4498-bfeb-4631b693871c",
   "metadata": {},
   "source": [
    "### Evaluación del Modelo en el Conjunto de Validación\n",
    "\n",
    "En este bloque se evalúa el desempeño final del modelo utilizando el conjunto de validación.\n",
    "\n",
    "#### **1. Evaluación del Modelo**\n",
    "- Se utiliza el método `evaluate` para calcular:\n",
    "  - **`val_loss`**: Pérdida en el conjunto de validación.\n",
    "  - **`val_accuracy`**: Precisión en el conjunto de validación.\n",
    "\n",
    "#### **2. Propósito**\n",
    "- Verificar el desempeño general del modelo después del entrenamiento.\n",
    "- Las métricas clave (`val_loss` y `val_accuracy`) reflejan la capacidad del modelo para generalizar a datos no vistos durante el entrenamiento.\n"
   ]
  },
  {
   "cell_type": "code",
   "execution_count": 22,
   "id": "396779f8-cea3-4334-9558-74831b6c09ff",
   "metadata": {},
   "outputs": [
    {
     "name": "stdout",
     "output_type": "stream",
     "text": [
      "24/24 [==============================] - 4s 155ms/step - loss: 0.3832 - accuracy: 0.8890\n",
      "Pérdida en validación: 0.3832\n",
      "Precisión en validación: 0.8890\n"
     ]
    }
   ],
   "source": [
    "# Evaluar el modelo en el conjunto de validación\n",
    "val_loss, val_accuracy = model.evaluate(val_ds)\n",
    "print(f\"Pérdida en validación: {val_loss:.4f}\")\n",
    "print(f\"Precisión en validación: {val_accuracy:.4f}\")"
   ]
  },
  {
   "cell_type": "markdown",
   "id": "9b51f48a-3bf3-4b24-9018-933d113615f7",
   "metadata": {},
   "source": [
    "### Visualización del Desempeño del Modelo\n",
    "\n",
    "#### **1. Gráfico de Precisión**\n",
    "- **Propósito**:\n",
    "  - Muestra cómo evoluciona la precisión en el conjunto de entrenamiento y validación a lo largo de las épocas.\n",
    "  - Permite observar si el modelo mejora de manera constante o si ocurre un sobreajuste (cuando la precisión en validación disminuye mientras la de entrenamiento sigue aumentando).\n",
    "### **2. Gráfico de Pérdida**\n",
    "- **Propósito**:\n",
    "\n",
    "  - Visualiza cómo cambia la pérdida en el conjunto de entrenamiento y validación durante las épocas.\n",
    "  - Un patrón deseable muestra una disminución consistente de la pérdida en ambas curvas. Un aumento en la pérdida de validación podría indicar sobreajuste.\n"
   ]
  },
  {
   "cell_type": "code",
   "execution_count": 23,
   "id": "98a4df0a-b524-49b8-98e3-370b7bbc8ba5",
   "metadata": {},
   "outputs": [
    {
     "data": {
      "image/png": "[encoded data removed]",
      "text/plain": [
       "<Figure size 1400x500 with 2 Axes>"
      ]
     },
     "metadata": {},
     "output_type": "display_data"
    }
   ],
   "source": [
    "# Crear una figura con dos subplots\n",
    "fig, axes = plt.subplots(1, 2, figsize=(14, 5))  # 1 fila, 2 columnas\n",
    "\n",
    "# Gráfico de precisión\n",
    "axes[0].plot(history.history['accuracy'], label='Precisión en Entrenamiento')\n",
    "axes[0].plot(history.history['val_accuracy'], label='Precisión en Validación')\n",
    "axes[0].set_xlabel('Épocas')\n",
    "axes[0].set_ylabel('Precisión')\n",
    "axes[0].set_title('Precisión por Épocas')\n",
    "axes[0].legend()\n",
    "\n",
    "# Gráfico de pérdida\n",
    "axes[1].plot(history.history['loss'], label='Pérdida en Entrenamiento')\n",
    "axes[1].plot(history.history['val_loss'], label='Pérdida en Validación')\n",
    "axes[1].set_xlabel('Épocas')\n",
    "axes[1].set_ylabel('Pérdida')\n",
    "axes[1].set_title('Pérdida por Épocas')\n",
    "axes[1].legend()\n",
    "\n",
    "# Mostrar los gráficos\n",
    "plt.tight_layout()\n",
    "plt.show()\n"
   ]
  },
  {
   "cell_type": "markdown",
   "id": "5e8bba9a-2f1e-423f-9d39-6089b5b1e061",
   "metadata": {},
   "source": [
    "### Generación de Predicciones y Reporte de Clasificación\n",
    "\n",
    "#### **1. Generar Predicciones**\n",
    "- **Propósito**:\n",
    "  - Comparar las etiquetas reales (`y_true`) con las predicciones del modelo (`y_pred`).\n",
    "- **Pasos**:\n",
    "  - Itera a través del conjunto de validación (`val_ds`).\n",
    "  - `model.predict(images)`: Genera las probabilidades predichas para cada clase.\n",
    "  - `np.argmax(preds, axis=1)`: Obtiene la clase con la mayor probabilidad como predicción.\n",
    "  - Extiende las listas `y_true` y `y_pred` con las etiquetas reales y las predicciones respectivamente.\n",
    "\n",
    "---\n",
    "\n",
    "#### **2. Reporte de Clasificación**\n",
    "- **Propósito**:\n",
    "  - Evaluar el desempeño del modelo por clase utilizando métricas como:\n",
    "    - **Precisión (Precision)**: Proporción de predicciones correctas para una clase específica.\n",
    "    - **Sensibilidad (Recall)**: Proporción de ejemplos correctamente identificados de una clase.\n",
    "    - **F1-score**: Media armónica de precisión y recall, útil en datasets desbalanceados.\n",
    "- **`classification_report`**:\n",
    "  - Genera un desglose detallado de estas métricas para cada clase.\n",
    "  - Parámetros clave:\n",
    "    - `y_true`: Etiquetas reales.\n",
    "    - `y_pred`: Predicciones del modelo.\n",
    "    - `target_names=class_names`: Nombres de las clases para interpretar fácilmente el reporte.\n"
   ]
  },
  {
   "cell_type": "code",
   "execution_count": 24,
   "id": "4ba3edc8-5838-442b-a8d8-a1a47146d4e5",
   "metadata": {
    "scrolled": true
   },
   "outputs": [
    {
     "name": "stdout",
     "output_type": "stream",
     "text": [
      "2/2 [==============================] - 2s 89ms/step\n",
      "2/2 [==============================] - 0s 98ms/step\n",
      "2/2 [==============================] - 0s 95ms/step\n",
      "2/2 [==============================] - 0s 101ms/step\n",
      "2/2 [==============================] - 0s 104ms/step\n",
      "2/2 [==============================] - 0s 119ms/step\n",
      "2/2 [==============================] - 0s 106ms/step\n",
      "2/2 [==============================] - 0s 104ms/step\n",
      "2/2 [==============================] - 0s 107ms/step\n",
      "2/2 [==============================] - 0s 119ms/step\n",
      "2/2 [==============================] - 0s 99ms/step\n",
      "2/2 [==============================] - 0s 104ms/step\n",
      "2/2 [==============================] - 0s 115ms/step\n",
      "2/2 [==============================] - 0s 91ms/step\n",
      "2/2 [==============================] - 0s 99ms/step\n",
      "2/2 [==============================] - 0s 288ms/step\n",
      "2/2 [==============================] - 0s 94ms/step\n",
      "2/2 [==============================] - 0s 105ms/step\n",
      "2/2 [==============================] - 0s 100ms/step\n",
      "2/2 [==============================] - 0s 99ms/step\n",
      "2/2 [==============================] - 0s 229ms/step\n",
      "2/2 [==============================] - 0s 108ms/step\n",
      "2/2 [==============================] - 0s 131ms/step\n",
      "2/2 [==============================] - 0s 139ms/step\n"
     ]
    }
   ],
   "source": [
    "# Obtener predicciones en el conjunto de validación\n",
    "y_true = []\n",
    "y_pred = []\n",
    "\n",
    "for images, labels in val_ds:\n",
    "    preds = model.predict(images)\n",
    "    y_true.extend(labels.numpy())  # Convertir a lista\n",
    "    y_pred.extend(np.argmax(preds, axis=1))  # Índice de la clase predicha"
   ]
  },
  {
   "cell_type": "code",
   "execution_count": 25,
   "id": "6d34c4e9-edd8-4470-b2c7-09d60aef0f69",
   "metadata": {},
   "outputs": [
    {
     "name": "stdout",
     "output_type": "stream",
     "text": [
      "Reporte de Clasificación:\n",
      "                  precision    recall  f1-score   support\n",
      "\n",
      " air_conditioner       0.89      0.94      0.91       143\n",
      "children_playing       0.88      0.83      0.86       133\n",
      "        drilling       0.89      0.89      0.89       168\n",
      "   engine_idling       0.92      0.91      0.91       150\n",
      "      jackhammer       0.87      0.93      0.90       156\n",
      "           siren       0.92      0.88      0.90       161\n",
      "    street_music       0.86      0.84      0.85       161\n",
      "\n",
      "        accuracy                           0.89      1072\n",
      "       macro avg       0.89      0.89      0.89      1072\n",
      "    weighted avg       0.89      0.89      0.89      1072\n",
      "\n"
     ]
    }
   ],
   "source": [
    "# Calcular el reporte de clasificación\n",
    "print(\"Reporte de Clasificación:\")\n",
    "print(classification_report(y_true, y_pred, target_names=class_names))"
   ]
  },
  {
   "cell_type": "markdown",
   "id": "021865f3-169d-406d-bb9f-da0a314cfd6f",
   "metadata": {},
   "source": [
    "### Visualización de la Matriz de Confusión\n",
    "\n",
    "#### **1. Propósito**\n",
    "La matriz de confusión muestra:\n",
    "- **Aciertos**: Elementos en la diagonal principal, donde las etiquetas reales coinciden con las predicciones.\n",
    "- **Errores**: Elementos fuera de la diagonal principal, donde las etiquetas reales no coinciden con las predicciones.\n",
    "\n",
    "#### **2. Herramientas Utilizadas**\n",
    "- **`sns.heatmap`**:\n",
    "  - Utiliza la librería Seaborn para graficar la matriz de confusión en un formato visual claro.\n",
    "  - Parámetros clave:\n",
    "    - `annot=True`: Muestra los valores numéricos en cada celda.\n",
    "    - `fmt='d'`: Formato de los valores como enteros.\n",
    "    - `xticklabels` y `yticklabels`: Etiquetas para las predicciones y las clases reales.\n",
    "    - `cmap=\"Blues\"`: Paleta de colores para el gráfico."
   ]
  },
  {
   "cell_type": "code",
   "execution_count": 26,
   "id": "86c01449-6b51-4eb4-8006-a089efc0eeaa",
   "metadata": {},
   "outputs": [],
   "source": [
    "conf_matrix = confusion_matrix(y_true, y_pred)"
   ]
  },
  {
   "cell_type": "code",
   "execution_count": 27,
   "id": "82819ee1-2da3-4d71-8967-cb6a913faed4",
   "metadata": {},
   "outputs": [
    {
     "data": {
      "image/png": "[encoded data removed]",
      "text/plain": [
       "<Figure size 1000x800 with 2 Axes>"
      ]
     },
     "metadata": {},
     "output_type": "display_data"
    }
   ],
   "source": [
    "plt.figure(figsize=(10, 8))\n",
    "sns.heatmap(conf_matrix, annot=True, fmt='d', xticklabels=class_names, yticklabels=class_names, cmap=\"Blues\")\n",
    "plt.xlabel('Predicción')\n",
    "plt.ylabel('Etiqueta Real')\n",
    "plt.title('Matriz de Confusión')\n",
    "plt.show()"
   ]
  },
  {
   "cell_type": "markdown",
   "id": "0bc8449d-366d-4a3d-9a2d-c38cd8cd1973",
   "metadata": {},
   "source": [
    "## **Testeo del modelo**"
   ]
  },
  {
   "cell_type": "markdown",
   "id": "73b9d2ec-2c17-4bcb-9a22-3c30bff4322f",
   "metadata": {},
   "source": [
    "### Predicción en una Imagen Individual\n",
    "\n",
    "En este bloque se realiza una predicción para una imagen específica utilizando el modelo entrenado.\n",
    "\n",
    "#### **1. Propósito**\n",
    "- Probar el modelo con una imagen individual para verificar cómo clasifica el modelo.\n",
    "- Obtener la clase predicha y el nivel de confianza en la predicción.\n",
    "\n",
    "---\n",
    "\n",
    "#### **2. Proceso**\n",
    "1. **Cargar y preprocesar la imagen**:\n",
    "   - Se utiliza la función `load_img` para cargar la imagen desde la ruta especificada.\n",
    "   - La imagen se redimensiona a **224x224 píxeles** para que sea compatible con el modelo.\n",
    "   - Se convierte la imagen a un array y se normaliza dividiendo los valores de píxeles por `255.0`.\n",
    "   - Se añade una dimensión adicional para que el modelo procese la imagen como un lote de tamaño 1.\n",
    "\n",
    "2. **Generar predicción**:\n",
    "   - `model.predict(img_array)`: Genera las probabilidades de pertenecer a cada clase.\n",
    "   - `np.argmax(predictions)`: Devuelve el índice de la clase con la probabilidad más alta.\n",
    "   - `class_names[np.argmax(predictions)]`: Convierte el índice en el nombre de la clase.\n",
    "\n",
    "3. **Resultado**:\n",
    "   - Se muestra la clase predicha y el nivel de confianza de la predicción (probabilidad más alta).\n"
   ]
  },
  {
   "cell_type": "code",
   "execution_count": 33,
   "id": "1510f4b7-5d8f-4bed-ba2b-9d35f1bdcc1d",
   "metadata": {},
   "outputs": [
    {
     "name": "stdout",
     "output_type": "stream",
     "text": [
      "1/1 [==============================] - 0s 19ms/step\n",
      "La imagen pertenece a la clase: drilling con una confianza del 1.00\n"
     ]
    }
   ],
   "source": [
    "# Ruta a la imagen que deseas predecir  # Cambia a la ruta de tu imagen\n",
    "img_path = \"D:\\\\Folder_Jupiter\\\\Analisis_Espectros\\\\DataSetImages_FULL\\\\DataSetImages\\\\Spectrograms\\\\Mel-512\\\\drilling\\\\187863-4-0-5.png\"\n",
    "\n",
    "# Cargar y preprocesar la imagen\n",
    "img = load_img(img_path, target_size=(224, 224))  # Asegúrate de que coincida con el tamaño del modelo\n",
    "img_array = img_to_array(img) / 255.0  # Normaliza los píxeles a [0, 1]\n",
    "img_array = np.expand_dims(img_array, axis=0)  # Añade la dimensión del lote\n",
    "\n",
    "# Generar predicción\n",
    "predictions = model.predict(img_array)\n",
    "predicted_class = class_names[np.argmax(predictions)]\n",
    "confidence = np.max(predictions)\n",
    "\n",
    "print(f\"La imagen pertenece a la clase: {predicted_class} con una confianza del {confidence:.2f}\")\n"
   ]
  },
  {
   "cell_type": "markdown",
   "id": "7784045a-8028-4577-af04-56b75507283a",
   "metadata": {},
   "source": [
    "## **Guardar el modelo**"
   ]
  },
  {
   "cell_type": "code",
   "execution_count": 29,
   "id": "12c96b95-0cdb-4134-a14d-8cd5f79c9176",
   "metadata": {},
   "outputs": [],
   "source": [
    "model.save(\"model_mel512_tl_v1.keras\")"
   ]
  }
 ],
 "metadata": {
  "kernelspec": {
   "display_name": "Python 3 (ipykernel)",
   "language": "python",
   "name": "python3"
  },
  "language_info": {
   "codemirror_mode": {
    "name": "ipython",
    "version": 3
   },
   "file_extension": ".py",
   "mimetype": "text/x-python",
   "name": "python",
   "nbconvert_exporter": "python",
   "pygments_lexer": "ipython3",
   "version": "3.9.18"
  }
 },
 "nbformat": 4,
 "nbformat_minor": 5
}
